{
  "nbformat": 4,
  "nbformat_minor": 0,
  "metadata": {
    "colab": {
      "name": "Hackathon_13.05_vol2.ipynb\"",
      "provenance": []
    },
    "kernelspec": {
      "name": "python3",
      "display_name": "Python 3"
    },
    "language_info": {
      "name": "python"
    }
  },
  "cells": [
    {
      "cell_type": "markdown",
      "metadata": {
        "id": "UHzf8keBpV82"
      },
      "source": [
        "# Download data"
      ]
    },
    {
      "cell_type": "code",
      "metadata": {
        "colab": {
          "base_uri": "https://localhost:8080/"
        },
        "id": "zqAFKkWObWKD",
        "outputId": "59970f67-94f2-4e3c-bb18-a8249f5cee81"
      },
      "source": [
        "!pip install imdb-sqlite"
      ],
      "execution_count": null,
      "outputs": [
        {
          "output_type": "stream",
          "text": [
            "Collecting imdb-sqlite\n",
            "  Downloading https://files.pythonhosted.org/packages/1d/88/784f7be2f7e6f45299faaa81fbd8656e7ab19589e5bceeb5a5097d92043a/imdb_sqlite-0.1.3-py3-none-any.whl\n",
            "Requirement already satisfied: tqdm>=4.4.1 in /usr/local/lib/python3.7/dist-packages (from imdb-sqlite) (4.41.1)\n",
            "Installing collected packages: imdb-sqlite\n",
            "Successfully installed imdb-sqlite-0.1.3\n"
          ],
          "name": "stdout"
        }
      ]
    },
    {
      "cell_type": "code",
      "metadata": {
        "colab": {
          "base_uri": "https://localhost:8080/"
        },
        "id": "2dwUg9qSbjPq",
        "outputId": "620e6b5b-94fa-4f33-e8e0-f4ba953800cd"
      },
      "source": [
        "!imdb-sqlite"
      ],
      "execution_count": null,
      "outputs": [
        {
          "output_type": "stream",
          "text": [
            "2021-05-13 07:08:55,099 GET https://datasets.imdbws.com/name.basics.tsv.gz -> downloads/name.basics.tsv.gz\n",
            "2021-05-13 07:08:57,698 GET https://datasets.imdbws.com/title.basics.tsv.gz -> downloads/title.basics.tsv.gz\n",
            "2021-05-13 07:08:59,372 GET https://datasets.imdbws.com/title.akas.tsv.gz -> downloads/title.akas.tsv.gz\n",
            "2021-05-13 07:09:05,539 GET https://datasets.imdbws.com/title.principals.tsv.gz -> downloads/title.principals.tsv.gz\n",
            "2021-05-13 07:09:09,687 GET https://datasets.imdbws.com/title.episode.tsv.gz -> downloads/title.episode.tsv.gz\n",
            "2021-05-13 07:09:10,784 GET https://datasets.imdbws.com/title.ratings.tsv.gz -> downloads/title.ratings.tsv.gz\n",
            "2021-05-13 07:09:11,331 Populating database: imdb.db\n",
            "2021-05-13 07:09:11,332 Applying schema\n",
            "2021-05-13 07:09:11,333 Importing file: downloads/name.basics.tsv.gz\n",
            "2021-05-13 07:09:11,333 Reading number of rows ...\n",
            "2021-05-13 07:09:16,930 Inserting rows into table: people\n",
            "100% 10921808/10921808 [01:57<00:00, 93250.30 rows/s]\n",
            "2021-05-13 07:11:14,063 Importing file: downloads/title.basics.tsv.gz\n",
            "2021-05-13 07:11:14,063 Reading number of rows ...\n",
            "2021-05-13 07:11:18,401 Inserting rows into table: titles\n",
            "100% 7893991/7893991 [01:45<00:00, 75157.56 rows/s]\n",
            "2021-05-13 07:13:03,438 Importing file: downloads/title.akas.tsv.gz\n",
            "2021-05-13 07:13:03,438 Reading number of rows ...\n",
            "2021-05-13 07:13:10,888 Inserting rows into table: akas\n",
            "100% 26243377/26243377 [04:52<00:00, 89670.89 rows/s]\n",
            "2021-05-13 07:18:03,559 Importing file: downloads/title.principals.tsv.gz\n",
            "2021-05-13 07:18:03,559 Reading number of rows ...\n",
            "2021-05-13 07:18:16,035 Inserting rows into table: crew\n",
            "100% 44653358/44653358 [06:23<00:00, 116353.47 rows/s]\n",
            "2021-05-13 07:24:39,812 Importing file: downloads/title.episode.tsv.gz\n",
            "2021-05-13 07:24:39,813 Reading number of rows ...\n",
            "2021-05-13 07:24:40,810 Inserting rows into table: episodes\n",
            "100% 5754812/5754812 [00:39<00:00, 146861.91 rows/s]\n",
            "2021-05-13 07:25:19,999 Importing file: downloads/title.ratings.tsv.gz\n",
            "2021-05-13 07:25:19,999 Reading number of rows ...\n",
            "2021-05-13 07:25:20,164 Inserting rows into table: ratings\n",
            "100% 1150624/1150624 [00:08<00:00, 142467.85 rows/s]\n",
            "2021-05-13 07:25:28,244 Creating table indices ...\n",
            "2021-05-13 07:29:10,944 Import successful\n"
          ],
          "name": "stdout"
        }
      ]
    },
    {
      "cell_type": "markdown",
      "metadata": {
        "id": "-UX33yvxqeRR"
      },
      "source": [
        "# Adult and non-adults movies"
      ]
    },
    {
      "cell_type": "markdown",
      "metadata": {
        "id": "OvbmY93hpgHT"
      },
      "source": [
        "To see the difference between adults movies and normal movies we create separate dataframes:"
      ]
    },
    {
      "cell_type": "code",
      "metadata": {
        "colab": {
          "base_uri": "https://localhost:8080/",
          "height": 195
        },
        "id": "3WZEnFHeqqKP",
        "outputId": "1f3d74c0-bf94-4cca-e413-13d2e483bcb0"
      },
      "source": [
        "import pandas as pd\n",
        "import sqlite3\n",
        "import re\n",
        "\n",
        "query = \"\"\"\n",
        "SELECT rating, is_adult, premiered  FROM titles\n",
        "JOIN ratings\n",
        "ON titles.title_id = ratings.title_id\n",
        "WHERE titles.is_adult > 0\n",
        "ORDER BY votes DESC\n",
        "\"\"\"\n",
        "\n",
        "\n",
        "con = sqlite3.connect('imdb.db')\n",
        "df1 = pd.read_sql(query, con)\n",
        "df1 = df1.loc[:,~df1.columns.duplicated()]\n",
        "\n",
        "df1.head(5)\n",
        "\n"
      ],
      "execution_count": null,
      "outputs": [
        {
          "output_type": "execute_result",
          "data": {
            "text/html": [
              "<div>\n",
              "<style scoped>\n",
              "    .dataframe tbody tr th:only-of-type {\n",
              "        vertical-align: middle;\n",
              "    }\n",
              "\n",
              "    .dataframe tbody tr th {\n",
              "        vertical-align: top;\n",
              "    }\n",
              "\n",
              "    .dataframe thead th {\n",
              "        text-align: right;\n",
              "    }\n",
              "</style>\n",
              "<table border=\"1\" class=\"dataframe\">\n",
              "  <thead>\n",
              "    <tr style=\"text-align: right;\">\n",
              "      <th></th>\n",
              "      <th>rating</th>\n",
              "      <th>is_adult</th>\n",
              "      <th>premiered</th>\n",
              "    </tr>\n",
              "  </thead>\n",
              "  <tbody>\n",
              "    <tr>\n",
              "      <th>0</th>\n",
              "      <td>5.1</td>\n",
              "      <td>1</td>\n",
              "      <td>1972.0</td>\n",
              "    </tr>\n",
              "    <tr>\n",
              "      <th>1</th>\n",
              "      <td>7.3</td>\n",
              "      <td>1</td>\n",
              "      <td>2005.0</td>\n",
              "    </tr>\n",
              "    <tr>\n",
              "      <th>2</th>\n",
              "      <td>7.7</td>\n",
              "      <td>1</td>\n",
              "      <td>2008.0</td>\n",
              "    </tr>\n",
              "    <tr>\n",
              "      <th>3</th>\n",
              "      <td>4.4</td>\n",
              "      <td>1</td>\n",
              "      <td>2004.0</td>\n",
              "    </tr>\n",
              "    <tr>\n",
              "      <th>4</th>\n",
              "      <td>6.2</td>\n",
              "      <td>1</td>\n",
              "      <td>1976.0</td>\n",
              "    </tr>\n",
              "  </tbody>\n",
              "</table>\n",
              "</div>"
            ],
            "text/plain": [
              "   rating  is_adult  premiered\n",
              "0     5.1         1     1972.0\n",
              "1     7.3         1     2005.0\n",
              "2     7.7         1     2008.0\n",
              "3     4.4         1     2004.0\n",
              "4     6.2         1     1976.0"
            ]
          },
          "metadata": {
            "tags": []
          },
          "execution_count": 110
        }
      ]
    },
    {
      "cell_type": "code",
      "metadata": {
        "colab": {
          "base_uri": "https://localhost:8080/",
          "height": 195
        },
        "id": "M4LMx5Wtydr_",
        "outputId": "2eb27939-7f08-497f-829d-abff8b3dca2a"
      },
      "source": [
        "query = \"\"\"\n",
        "SELECT rating, is_adult, premiered FROM titles\n",
        "JOIN ratings \n",
        "ON titles.title_id = ratings.title_id\n",
        "WHERE titles.is_adult < 1\n",
        "ORDER BY votes DESC\n",
        "\"\"\"\n",
        "\n",
        "\n",
        "con = sqlite3.connect('imdb.db')\n",
        "df0 = pd.read_sql(query, con)\n",
        "df0 = df0.loc[:,~df0.columns.duplicated()]\n",
        "\n",
        "df0.head(5)\n",
        "\n"
      ],
      "execution_count": null,
      "outputs": [
        {
          "output_type": "execute_result",
          "data": {
            "text/html": [
              "<div>\n",
              "<style scoped>\n",
              "    .dataframe tbody tr th:only-of-type {\n",
              "        vertical-align: middle;\n",
              "    }\n",
              "\n",
              "    .dataframe tbody tr th {\n",
              "        vertical-align: top;\n",
              "    }\n",
              "\n",
              "    .dataframe thead th {\n",
              "        text-align: right;\n",
              "    }\n",
              "</style>\n",
              "<table border=\"1\" class=\"dataframe\">\n",
              "  <thead>\n",
              "    <tr style=\"text-align: right;\">\n",
              "      <th></th>\n",
              "      <th>rating</th>\n",
              "      <th>is_adult</th>\n",
              "      <th>premiered</th>\n",
              "    </tr>\n",
              "  </thead>\n",
              "  <tbody>\n",
              "    <tr>\n",
              "      <th>0</th>\n",
              "      <td>9.3</td>\n",
              "      <td>0</td>\n",
              "      <td>1994.0</td>\n",
              "    </tr>\n",
              "    <tr>\n",
              "      <th>1</th>\n",
              "      <td>9.0</td>\n",
              "      <td>0</td>\n",
              "      <td>2008.0</td>\n",
              "    </tr>\n",
              "    <tr>\n",
              "      <th>2</th>\n",
              "      <td>8.8</td>\n",
              "      <td>0</td>\n",
              "      <td>2010.0</td>\n",
              "    </tr>\n",
              "    <tr>\n",
              "      <th>3</th>\n",
              "      <td>8.8</td>\n",
              "      <td>0</td>\n",
              "      <td>1999.0</td>\n",
              "    </tr>\n",
              "    <tr>\n",
              "      <th>4</th>\n",
              "      <td>8.9</td>\n",
              "      <td>0</td>\n",
              "      <td>1994.0</td>\n",
              "    </tr>\n",
              "  </tbody>\n",
              "</table>\n",
              "</div>"
            ],
            "text/plain": [
              "   rating  is_adult  premiered\n",
              "0     9.3         0     1994.0\n",
              "1     9.0         0     2008.0\n",
              "2     8.8         0     2010.0\n",
              "3     8.8         0     1999.0\n",
              "4     8.9         0     1994.0"
            ]
          },
          "metadata": {
            "tags": []
          },
          "execution_count": 107
        }
      ]
    },
    {
      "cell_type": "code",
      "metadata": {
        "id": "2PD4vGdHJ21x"
      },
      "source": [
        "df_is_not_adult = df0.head(1000)\n",
        "df_is_adult = df1.head(1000)"
      ],
      "execution_count": null,
      "outputs": []
    },
    {
      "cell_type": "markdown",
      "metadata": {
        "id": "1pGykhbZpq6N"
      },
      "source": [
        "Visualize by creating a scatterplot with two groups of data:"
      ]
    },
    {
      "cell_type": "code",
      "metadata": {
        "id": "CdXMNfzT8iPt"
      },
      "source": [
        "import matplotlib.pyplot as plt\n",
        "%matplotlib inline\n",
        "import seaborn as sns"
      ],
      "execution_count": null,
      "outputs": []
    },
    {
      "cell_type": "code",
      "metadata": {
        "colab": {
          "base_uri": "https://localhost:8080/",
          "height": 669
        },
        "id": "a6A89FZiGSft",
        "outputId": "455328bb-71fd-4df9-e666-f775e11827d4"
      },
      "source": [
        "year_is_not_adult = df_is_not_adult[df_is_not_adult['is_adult'] == 0]['premiered']\n",
        "rating_is_not_adult = df_is_not_adult[df_is_not_adult['is_adult'] == 0]['rating']\n",
        "year_is_adult = df_is_adult[df_is_adult['is_adult'] == 1]['premiered']\n",
        "rating_is_adult = df_is_adult[df_is_adult['is_adult'] == 1]['rating']\n",
        "\n",
        "\n",
        "plt.figure(figsize=(12,10), dpi= 80)\n",
        "\n",
        "plt.scatter(year_is_not_adult, rating_is_not_adult, color='purple', label='not adult')\n",
        "plt.scatter(year_is_adult, rating_is_adult, color='orange', label='adult')\n",
        "\n",
        "plt.title('') \n",
        "plt.ylabel('rating')\n",
        "plt.xlabel('year')\n",
        "plt.legend(loc='best') \n",
        "plt.show()"
      ],
      "execution_count": null,
      "outputs": [
        {
          "output_type": "display_data",
          "data": {
            "image/png": "[encoded data removed]",
            "text/plain": [
              "<Figure size 960x800 with 1 Axes>"
            ]
          },
          "metadata": {
            "tags": [],
            "needs_background": "light"
          }
        }
      ]
    },
    {
      "cell_type": "markdown",
      "metadata": {
        "id": "PIs7F-vgpxZG"
      },
      "source": [
        "# See the career path of top directors"
      ]
    },
    {
      "cell_type": "markdown",
      "metadata": {
        "id": "FZC9aaO0p3z9"
      },
      "source": [
        "To find out who the most popular directors in the database are we group by directors and sort rows by decresing number of votes:"
      ]
    },
    {
      "cell_type": "code",
      "metadata": {
        "id": "YD-ff_gzO88R"
      },
      "source": [
        "import pandas as pd\n",
        "import sqlite3\n",
        "\n",
        "query = \"\"\"\n",
        "SELECT name, AVG(rating) AS mean_rating_film FROM titles\n",
        "JOIN ratings, crew, people\n",
        "ON titles.title_id = ratings.title_id AND titles.title_id = crew.title_id AND crew.person_id = people.person_id\n",
        "WHERE crew.category IN ('director')\n",
        "GROUP BY name\n",
        "ORDER BY AVG(votes) DESC\n",
        "\"\"\"\n",
        "\n",
        "\n",
        "con = sqlite3.connect('imdb.db')\n",
        "df = pd.read_sql(query, con)\n",
        "df = df.loc[:,~df.columns.duplicated()]\n",
        "\n",
        "df_directors = df.head(10)"
      ],
      "execution_count": null,
      "outputs": []
    },
    {
      "cell_type": "markdown",
      "metadata": {
        "id": "TTLbZ15FqFWr"
      },
      "source": [
        "These are top-10 directors by popularity:"
      ]
    },
    {
      "cell_type": "code",
      "metadata": {
        "colab": {
          "base_uri": "https://localhost:8080/"
        },
        "id": "SJraUZl7T7XI",
        "outputId": "26254600-5fba-4d35-8108-e0afdd9dd238"
      },
      "source": [
        "directors = list(df_directors['name'])\n",
        "\n",
        "directors"
      ],
      "execution_count": null,
      "outputs": [
        {
          "output_type": "execute_result",
          "data": {
            "text/plain": [
              "['Christopher Nolan',\n",
              " 'Loveleen Tandan',\n",
              " 'Quentin Tarantino',\n",
              " 'Peter Jackson',\n",
              " 'Lee Unkrich',\n",
              " 'Chad Stahelski',\n",
              " 'Adrian Molina',\n",
              " 'Bob Persichetti',\n",
              " 'Rodney Rothman',\n",
              " 'Joe Ranft']"
            ]
          },
          "metadata": {
            "tags": []
          },
          "execution_count": 135
        }
      ]
    },
    {
      "cell_type": "markdown",
      "metadata": {
        "id": "9mkDhUvPqKlW"
      },
      "source": [
        "Getting the average ratings of top directors:"
      ]
    },
    {
      "cell_type": "code",
      "metadata": {
        "colab": {
          "base_uri": "https://localhost:8080/",
          "height": 194
        },
        "id": "WDGrk5teZV14",
        "outputId": "f4b9886b-9c39-49a2-f9e4-65fefe17d715"
      },
      "source": [
        "import pandas as pd\n",
        "import sqlite3\n",
        "\n",
        "query = \"\"\"\n",
        "SELECT name, premiered, rating, primary_title FROM titles\n",
        "JOIN ratings, crew, people\n",
        "ON titles.title_id = ratings.title_id AND titles.title_id = crew.title_id AND crew.person_id = people.person_id\n",
        "WHERE people.name IN ('Christopher Nolan',\n",
        " 'Quentin Tarantino',\n",
        " 'Peter Jackson',\n",
        " 'Lee Unkrich',\n",
        " 'Chad Stahelski',\n",
        " 'Rodney Rothman',\n",
        " 'Joe Ranft')\n",
        "\"\"\"\n",
        "\n",
        "\n",
        "con = sqlite3.connect('imdb.db')\n",
        "dfall = pd.read_sql(query, con)\n",
        "dfall = dfall.loc[:,~dfall.columns.duplicated()]\n",
        "dfall.head(5)"
      ],
      "execution_count": null,
      "outputs": [
        {
          "output_type": "execute_result",
          "data": {
            "text/html": [
              "<div>\n",
              "<style scoped>\n",
              "    .dataframe tbody tr th:only-of-type {\n",
              "        vertical-align: middle;\n",
              "    }\n",
              "\n",
              "    .dataframe tbody tr th {\n",
              "        vertical-align: top;\n",
              "    }\n",
              "\n",
              "    .dataframe thead th {\n",
              "        text-align: right;\n",
              "    }\n",
              "</style>\n",
              "<table border=\"1\" class=\"dataframe\">\n",
              "  <thead>\n",
              "    <tr style=\"text-align: right;\">\n",
              "      <th></th>\n",
              "      <th>name</th>\n",
              "      <th>premiered</th>\n",
              "      <th>rating</th>\n",
              "      <th>primary_title</th>\n",
              "    </tr>\n",
              "  </thead>\n",
              "  <tbody>\n",
              "    <tr>\n",
              "      <th>0</th>\n",
              "      <td>Chad Stahelski</td>\n",
              "      <td>1995</td>\n",
              "      <td>3.9</td>\n",
              "      <td>Nemesis 2: Nebula</td>\n",
              "    </tr>\n",
              "    <tr>\n",
              "      <th>1</th>\n",
              "      <td>Chad Stahelski</td>\n",
              "      <td>2012</td>\n",
              "      <td>7.2</td>\n",
              "      <td>Safe: The Art of the Gunfight</td>\n",
              "    </tr>\n",
              "    <tr>\n",
              "      <th>2</th>\n",
              "      <td>Chad Stahelski</td>\n",
              "      <td>2012</td>\n",
              "      <td>7.8</td>\n",
              "      <td>Safe: Cracking Safe</td>\n",
              "    </tr>\n",
              "    <tr>\n",
              "      <th>3</th>\n",
              "      <td>Chad Stahelski</td>\n",
              "      <td>2014</td>\n",
              "      <td>7.4</td>\n",
              "      <td>John Wick</td>\n",
              "    </tr>\n",
              "    <tr>\n",
              "      <th>4</th>\n",
              "      <td>Chad Stahelski</td>\n",
              "      <td>2017</td>\n",
              "      <td>7.5</td>\n",
              "      <td>John Wick: Chapter 2</td>\n",
              "    </tr>\n",
              "  </tbody>\n",
              "</table>\n",
              "</div>"
            ],
            "text/plain": [
              "             name  premiered  rating                  primary_title\n",
              "0  Chad Stahelski       1995     3.9              Nemesis 2: Nebula\n",
              "1  Chad Stahelski       2012     7.2  Safe: The Art of the Gunfight\n",
              "2  Chad Stahelski       2012     7.8            Safe: Cracking Safe\n",
              "3  Chad Stahelski       2014     7.4                      John Wick\n",
              "4  Chad Stahelski       2017     7.5           John Wick: Chapter 2"
            ]
          },
          "metadata": {
            "tags": []
          },
          "execution_count": 148
        }
      ]
    },
    {
      "cell_type": "code",
      "metadata": {
        "colab": {
          "base_uri": "https://localhost:8080/",
          "height": 194
        },
        "id": "wDH44uJkMQt2",
        "outputId": "250c565d-4584-43ad-fdee-9b174456299a"
      },
      "source": [
        "import pandas as pd\n",
        "import sqlite3\n",
        "\n",
        "query = \"\"\"\n",
        "SELECT name, premiered, rating, primary_title FROM titles\n",
        "JOIN ratings, crew, people\n",
        "ON titles.title_id = ratings.title_id AND titles.title_id = crew.title_id AND crew.person_id = people.person_id\n",
        "WHERE people.name IN ('Christopher Nolan')\n",
        "\"\"\"\n",
        "\n",
        "\n",
        "con = sqlite3.connect('imdb.db')\n",
        "dfnolan = pd.read_sql(query, con)\n",
        "dfnolan = dfnolan.loc[:,~dfnolan.columns.duplicated()]\n",
        "dfnolan.head(5)"
      ],
      "execution_count": null,
      "outputs": [
        {
          "output_type": "execute_result",
          "data": {
            "text/html": [
              "<div>\n",
              "<style scoped>\n",
              "    .dataframe tbody tr th:only-of-type {\n",
              "        vertical-align: middle;\n",
              "    }\n",
              "\n",
              "    .dataframe tbody tr th {\n",
              "        vertical-align: top;\n",
              "    }\n",
              "\n",
              "    .dataframe thead th {\n",
              "        text-align: right;\n",
              "    }\n",
              "</style>\n",
              "<table border=\"1\" class=\"dataframe\">\n",
              "  <thead>\n",
              "    <tr style=\"text-align: right;\">\n",
              "      <th></th>\n",
              "      <th>name</th>\n",
              "      <th>premiered</th>\n",
              "      <th>rating</th>\n",
              "      <th>primary_title</th>\n",
              "    </tr>\n",
              "  </thead>\n",
              "  <tbody>\n",
              "    <tr>\n",
              "      <th>0</th>\n",
              "      <td>Christopher Nolan</td>\n",
              "      <td>1998</td>\n",
              "      <td>7.5</td>\n",
              "      <td>Following</td>\n",
              "    </tr>\n",
              "    <tr>\n",
              "      <th>1</th>\n",
              "      <td>Christopher Nolan</td>\n",
              "      <td>2000</td>\n",
              "      <td>8.4</td>\n",
              "      <td>Memento</td>\n",
              "    </tr>\n",
              "    <tr>\n",
              "      <th>2</th>\n",
              "      <td>Christopher Nolan</td>\n",
              "      <td>2002</td>\n",
              "      <td>7.2</td>\n",
              "      <td>Insomnia</td>\n",
              "    </tr>\n",
              "    <tr>\n",
              "      <th>3</th>\n",
              "      <td>Christopher Nolan</td>\n",
              "      <td>2002</td>\n",
              "      <td>7.7</td>\n",
              "      <td>180°: Christopher Nolan Interviews Al Pacino</td>\n",
              "    </tr>\n",
              "    <tr>\n",
              "      <th>4</th>\n",
              "      <td>Christopher Nolan</td>\n",
              "      <td>2002</td>\n",
              "      <td>5.3</td>\n",
              "      <td>Day for Night: The Making of 'Insomnia'</td>\n",
              "    </tr>\n",
              "  </tbody>\n",
              "</table>\n",
              "</div>"
            ],
            "text/plain": [
              "                name  ...                                 primary_title\n",
              "0  Christopher Nolan  ...                                     Following\n",
              "1  Christopher Nolan  ...                                       Memento\n",
              "2  Christopher Nolan  ...                                      Insomnia\n",
              "3  Christopher Nolan  ...  180°: Christopher Nolan Interviews Al Pacino\n",
              "4  Christopher Nolan  ...       Day for Night: The Making of 'Insomnia'\n",
              "\n",
              "[5 rows x 4 columns]"
            ]
          },
          "metadata": {
            "tags": []
          },
          "execution_count": 186
        }
      ]
    },
    {
      "cell_type": "code",
      "metadata": {
        "colab": {
          "base_uri": "https://localhost:8080/",
          "height": 194
        },
        "id": "XTry8Lw2Ussp",
        "outputId": "3b15e4fc-de0f-4c84-b46d-f3a3aaf57e0b"
      },
      "source": [
        "import pandas as pd\n",
        "import sqlite3\n",
        "\n",
        "query = \"\"\"\n",
        "SELECT name, premiered, rating, primary_title FROM titles\n",
        "JOIN ratings, crew, people\n",
        "ON titles.title_id = ratings.title_id AND titles.title_id = crew.title_id AND crew.person_id = people.person_id\n",
        "WHERE people.name IN ('Quentin Tarantino')\n",
        "\"\"\"\n",
        "\n",
        "\n",
        "con = sqlite3.connect('imdb.db')\n",
        "dftarantino = pd.read_sql(query, con)\n",
        "dftarantino = dftarantino.loc[:,~dftarantino.columns.duplicated()]\n",
        "dftarantino.head(5)"
      ],
      "execution_count": null,
      "outputs": [
        {
          "output_type": "execute_result",
          "data": {
            "text/html": [
              "<div>\n",
              "<style scoped>\n",
              "    .dataframe tbody tr th:only-of-type {\n",
              "        vertical-align: middle;\n",
              "    }\n",
              "\n",
              "    .dataframe tbody tr th {\n",
              "        vertical-align: top;\n",
              "    }\n",
              "\n",
              "    .dataframe thead th {\n",
              "        text-align: right;\n",
              "    }\n",
              "</style>\n",
              "<table border=\"1\" class=\"dataframe\">\n",
              "  <thead>\n",
              "    <tr style=\"text-align: right;\">\n",
              "      <th></th>\n",
              "      <th>name</th>\n",
              "      <th>premiered</th>\n",
              "      <th>rating</th>\n",
              "      <th>primary_title</th>\n",
              "    </tr>\n",
              "  </thead>\n",
              "  <tbody>\n",
              "    <tr>\n",
              "      <th>0</th>\n",
              "      <td>Quentin Tarantino</td>\n",
              "      <td>1992</td>\n",
              "      <td>8.3</td>\n",
              "      <td>Reservoir Dogs</td>\n",
              "    </tr>\n",
              "    <tr>\n",
              "      <th>1</th>\n",
              "      <td>Quentin Tarantino</td>\n",
              "      <td>1993</td>\n",
              "      <td>7.9</td>\n",
              "      <td>True Romance</td>\n",
              "    </tr>\n",
              "    <tr>\n",
              "      <th>2</th>\n",
              "      <td>Quentin Tarantino</td>\n",
              "      <td>1995</td>\n",
              "      <td>6.4</td>\n",
              "      <td>American Cinema</td>\n",
              "    </tr>\n",
              "    <tr>\n",
              "      <th>3</th>\n",
              "      <td>Quentin Tarantino</td>\n",
              "      <td>1994</td>\n",
              "      <td>7.3</td>\n",
              "      <td>Natural Born Killers</td>\n",
              "    </tr>\n",
              "    <tr>\n",
              "      <th>4</th>\n",
              "      <td>Quentin Tarantino</td>\n",
              "      <td>1994</td>\n",
              "      <td>8.9</td>\n",
              "      <td>Pulp Fiction</td>\n",
              "    </tr>\n",
              "  </tbody>\n",
              "</table>\n",
              "</div>"
            ],
            "text/plain": [
              "                name  premiered  rating         primary_title\n",
              "0  Quentin Tarantino       1992     8.3        Reservoir Dogs\n",
              "1  Quentin Tarantino       1993     7.9          True Romance\n",
              "2  Quentin Tarantino       1995     6.4       American Cinema\n",
              "3  Quentin Tarantino       1994     7.3  Natural Born Killers\n",
              "4  Quentin Tarantino       1994     8.9          Pulp Fiction"
            ]
          },
          "metadata": {
            "tags": []
          },
          "execution_count": 139
        }
      ]
    },
    {
      "cell_type": "code",
      "metadata": {
        "colab": {
          "base_uri": "https://localhost:8080/",
          "height": 194
        },
        "id": "KYVJTBWAUsuf",
        "outputId": "b2b74060-30fa-435b-fb33-6dd1c24fe74e"
      },
      "source": [
        "import pandas as pd\n",
        "import sqlite3\n",
        "\n",
        "query = \"\"\"\n",
        "SELECT name, premiered, rating, primary_title FROM titles\n",
        "JOIN ratings, crew, people\n",
        "ON titles.title_id = ratings.title_id AND titles.title_id = crew.title_id AND crew.person_id = people.person_id\n",
        "WHERE people.name IN ('Peter Jackson')\n",
        "\"\"\"\n",
        "\n",
        "\n",
        "con = sqlite3.connect('imdb.db')\n",
        "dfjackson = pd.read_sql(query, con)\n",
        "dfjackson = dfjackson.loc[:,~dfjackson.columns.duplicated()]\n",
        "dfjackson.head(5)"
      ],
      "execution_count": null,
      "outputs": [
        {
          "output_type": "execute_result",
          "data": {
            "text/html": [
              "<div>\n",
              "<style scoped>\n",
              "    .dataframe tbody tr th:only-of-type {\n",
              "        vertical-align: middle;\n",
              "    }\n",
              "\n",
              "    .dataframe tbody tr th {\n",
              "        vertical-align: top;\n",
              "    }\n",
              "\n",
              "    .dataframe thead th {\n",
              "        text-align: right;\n",
              "    }\n",
              "</style>\n",
              "<table border=\"1\" class=\"dataframe\">\n",
              "  <thead>\n",
              "    <tr style=\"text-align: right;\">\n",
              "      <th></th>\n",
              "      <th>name</th>\n",
              "      <th>premiered</th>\n",
              "      <th>rating</th>\n",
              "      <th>primary_title</th>\n",
              "    </tr>\n",
              "  </thead>\n",
              "  <tbody>\n",
              "    <tr>\n",
              "      <th>0</th>\n",
              "      <td>Peter Jackson</td>\n",
              "      <td>1987</td>\n",
              "      <td>6.6</td>\n",
              "      <td>Bad Taste</td>\n",
              "    </tr>\n",
              "    <tr>\n",
              "      <th>1</th>\n",
              "      <td>Peter Jackson</td>\n",
              "      <td>1989</td>\n",
              "      <td>6.7</td>\n",
              "      <td>Meet the Feebles</td>\n",
              "    </tr>\n",
              "    <tr>\n",
              "      <th>2</th>\n",
              "      <td>Peter Jackson</td>\n",
              "      <td>1992</td>\n",
              "      <td>7.5</td>\n",
              "      <td>Dead Alive</td>\n",
              "    </tr>\n",
              "    <tr>\n",
              "      <th>3</th>\n",
              "      <td>Peter Jackson</td>\n",
              "      <td>1994</td>\n",
              "      <td>7.3</td>\n",
              "      <td>Heavenly Creatures</td>\n",
              "    </tr>\n",
              "    <tr>\n",
              "      <th>4</th>\n",
              "      <td>Peter Jackson</td>\n",
              "      <td>1995</td>\n",
              "      <td>7.5</td>\n",
              "      <td>Forgotten Silver</td>\n",
              "    </tr>\n",
              "  </tbody>\n",
              "</table>\n",
              "</div>"
            ],
            "text/plain": [
              "            name  premiered  rating       primary_title\n",
              "0  Peter Jackson       1987     6.6           Bad Taste\n",
              "1  Peter Jackson       1989     6.7    Meet the Feebles\n",
              "2  Peter Jackson       1992     7.5          Dead Alive\n",
              "3  Peter Jackson       1994     7.3  Heavenly Creatures\n",
              "4  Peter Jackson       1995     7.5    Forgotten Silver"
            ]
          },
          "metadata": {
            "tags": []
          },
          "execution_count": 140
        }
      ]
    },
    {
      "cell_type": "code",
      "metadata": {
        "colab": {
          "base_uri": "https://localhost:8080/",
          "height": 194
        },
        "id": "mA0K7Ye2Usxw",
        "outputId": "e42316e6-571d-40c8-d7a5-4d9fb082f609"
      },
      "source": [
        "import pandas as pd\n",
        "import sqlite3\n",
        "\n",
        "query = \"\"\"\n",
        "SELECT name, premiered, rating, primary_title FROM titles\n",
        "JOIN ratings, crew, people\n",
        "ON titles.title_id = ratings.title_id AND titles.title_id = crew.title_id AND crew.person_id = people.person_id\n",
        "WHERE people.name IN ('Lee Unkrich')\n",
        "\"\"\"\n",
        "\n",
        "\n",
        "con = sqlite3.connect('imdb.db')\n",
        "dfunkrich = pd.read_sql(query, con)\n",
        "dfunkrich = dfunkrich.loc[:,~dfunkrich.columns.duplicated()]\n",
        "dfunkrich.head(5)"
      ],
      "execution_count": null,
      "outputs": [
        {
          "output_type": "execute_result",
          "data": {
            "text/html": [
              "<div>\n",
              "<style scoped>\n",
              "    .dataframe tbody tr th:only-of-type {\n",
              "        vertical-align: middle;\n",
              "    }\n",
              "\n",
              "    .dataframe tbody tr th {\n",
              "        vertical-align: top;\n",
              "    }\n",
              "\n",
              "    .dataframe thead th {\n",
              "        text-align: right;\n",
              "    }\n",
              "</style>\n",
              "<table border=\"1\" class=\"dataframe\">\n",
              "  <thead>\n",
              "    <tr style=\"text-align: right;\">\n",
              "      <th></th>\n",
              "      <th>name</th>\n",
              "      <th>premiered</th>\n",
              "      <th>rating</th>\n",
              "      <th>primary_title</th>\n",
              "    </tr>\n",
              "  </thead>\n",
              "  <tbody>\n",
              "    <tr>\n",
              "      <th>0</th>\n",
              "      <td>Lee Unkrich</td>\n",
              "      <td>1999</td>\n",
              "      <td>7.9</td>\n",
              "      <td>Toy Story 2</td>\n",
              "    </tr>\n",
              "    <tr>\n",
              "      <th>1</th>\n",
              "      <td>Lee Unkrich</td>\n",
              "      <td>2001</td>\n",
              "      <td>8.1</td>\n",
              "      <td>Monsters, Inc.</td>\n",
              "    </tr>\n",
              "    <tr>\n",
              "      <th>2</th>\n",
              "      <td>Lee Unkrich</td>\n",
              "      <td>2003</td>\n",
              "      <td>8.1</td>\n",
              "      <td>Finding Nemo</td>\n",
              "    </tr>\n",
              "    <tr>\n",
              "      <th>3</th>\n",
              "      <td>Lee Unkrich</td>\n",
              "      <td>2010</td>\n",
              "      <td>8.2</td>\n",
              "      <td>Toy Story 3</td>\n",
              "    </tr>\n",
              "    <tr>\n",
              "      <th>4</th>\n",
              "      <td>Lee Unkrich</td>\n",
              "      <td>1995</td>\n",
              "      <td>6.2</td>\n",
              "      <td>Community Service</td>\n",
              "    </tr>\n",
              "  </tbody>\n",
              "</table>\n",
              "</div>"
            ],
            "text/plain": [
              "          name  premiered  rating      primary_title\n",
              "0  Lee Unkrich       1999     7.9        Toy Story 2\n",
              "1  Lee Unkrich       2001     8.1     Monsters, Inc.\n",
              "2  Lee Unkrich       2003     8.1       Finding Nemo\n",
              "3  Lee Unkrich       2010     8.2        Toy Story 3\n",
              "4  Lee Unkrich       1995     6.2  Community Service"
            ]
          },
          "metadata": {
            "tags": []
          },
          "execution_count": 141
        }
      ]
    },
    {
      "cell_type": "code",
      "metadata": {
        "colab": {
          "base_uri": "https://localhost:8080/",
          "height": 194
        },
        "id": "f-ueZWuCUszy",
        "outputId": "6f916427-4e12-4f63-850b-71af2e50a627"
      },
      "source": [
        "import pandas as pd\n",
        "import sqlite3\n",
        "\n",
        "query = \"\"\"\n",
        "SELECT name, premiered, rating, primary_title FROM titles\n",
        "JOIN ratings, crew, people\n",
        "ON titles.title_id = ratings.title_id AND titles.title_id = crew.title_id AND crew.person_id = people.person_id\n",
        "WHERE people.name IN ('Chad Stahelski')\n",
        "\"\"\"\n",
        "\n",
        "\n",
        "con = sqlite3.connect('imdb.db')\n",
        "dfstahelski = pd.read_sql(query, con)\n",
        "dfstahelski = dfstahelski.loc[:,~dfstahelski.columns.duplicated()]\n",
        "dfstahelski.head(5)"
      ],
      "execution_count": null,
      "outputs": [
        {
          "output_type": "execute_result",
          "data": {
            "text/html": [
              "<div>\n",
              "<style scoped>\n",
              "    .dataframe tbody tr th:only-of-type {\n",
              "        vertical-align: middle;\n",
              "    }\n",
              "\n",
              "    .dataframe tbody tr th {\n",
              "        vertical-align: top;\n",
              "    }\n",
              "\n",
              "    .dataframe thead th {\n",
              "        text-align: right;\n",
              "    }\n",
              "</style>\n",
              "<table border=\"1\" class=\"dataframe\">\n",
              "  <thead>\n",
              "    <tr style=\"text-align: right;\">\n",
              "      <th></th>\n",
              "      <th>name</th>\n",
              "      <th>premiered</th>\n",
              "      <th>rating</th>\n",
              "      <th>primary_title</th>\n",
              "    </tr>\n",
              "  </thead>\n",
              "  <tbody>\n",
              "    <tr>\n",
              "      <th>0</th>\n",
              "      <td>Chad Stahelski</td>\n",
              "      <td>1995</td>\n",
              "      <td>3.9</td>\n",
              "      <td>Nemesis 2: Nebula</td>\n",
              "    </tr>\n",
              "    <tr>\n",
              "      <th>1</th>\n",
              "      <td>Chad Stahelski</td>\n",
              "      <td>2012</td>\n",
              "      <td>7.2</td>\n",
              "      <td>Safe: The Art of the Gunfight</td>\n",
              "    </tr>\n",
              "    <tr>\n",
              "      <th>2</th>\n",
              "      <td>Chad Stahelski</td>\n",
              "      <td>2012</td>\n",
              "      <td>7.8</td>\n",
              "      <td>Safe: Cracking Safe</td>\n",
              "    </tr>\n",
              "    <tr>\n",
              "      <th>3</th>\n",
              "      <td>Chad Stahelski</td>\n",
              "      <td>2014</td>\n",
              "      <td>7.4</td>\n",
              "      <td>John Wick</td>\n",
              "    </tr>\n",
              "    <tr>\n",
              "      <th>4</th>\n",
              "      <td>Chad Stahelski</td>\n",
              "      <td>2017</td>\n",
              "      <td>7.5</td>\n",
              "      <td>John Wick: Chapter 2</td>\n",
              "    </tr>\n",
              "  </tbody>\n",
              "</table>\n",
              "</div>"
            ],
            "text/plain": [
              "             name  premiered  rating                  primary_title\n",
              "0  Chad Stahelski       1995     3.9              Nemesis 2: Nebula\n",
              "1  Chad Stahelski       2012     7.2  Safe: The Art of the Gunfight\n",
              "2  Chad Stahelski       2012     7.8            Safe: Cracking Safe\n",
              "3  Chad Stahelski       2014     7.4                      John Wick\n",
              "4  Chad Stahelski       2017     7.5           John Wick: Chapter 2"
            ]
          },
          "metadata": {
            "tags": []
          },
          "execution_count": 142
        }
      ]
    },
    {
      "cell_type": "code",
      "metadata": {
        "colab": {
          "base_uri": "https://localhost:8080/",
          "height": 194
        },
        "id": "RXTUAyZwVPh7",
        "outputId": "639ffdb3-6fdf-44b7-bed3-17c2a9d08d99"
      },
      "source": [
        "import pandas as pd\n",
        "import sqlite3\n",
        "\n",
        "query = \"\"\"\n",
        "SELECT name, premiered, rating, primary_title FROM titles\n",
        "JOIN ratings, crew, people\n",
        "ON titles.title_id = ratings.title_id AND titles.title_id = crew.title_id AND crew.person_id = people.person_id\n",
        "WHERE people.name IN ('Rodney Rothman')\n",
        "\"\"\"\n",
        "\n",
        "\n",
        "con = sqlite3.connect('imdb.db')\n",
        "dfrothman = pd.read_sql(query, con)\n",
        "dfrothman = dfrothman.loc[:,~dfrothman.columns.duplicated()]\n",
        "dfrothman.head(5)"
      ],
      "execution_count": null,
      "outputs": [
        {
          "output_type": "execute_result",
          "data": {
            "text/html": [
              "<div>\n",
              "<style scoped>\n",
              "    .dataframe tbody tr th:only-of-type {\n",
              "        vertical-align: middle;\n",
              "    }\n",
              "\n",
              "    .dataframe tbody tr th {\n",
              "        vertical-align: top;\n",
              "    }\n",
              "\n",
              "    .dataframe thead th {\n",
              "        text-align: right;\n",
              "    }\n",
              "</style>\n",
              "<table border=\"1\" class=\"dataframe\">\n",
              "  <thead>\n",
              "    <tr style=\"text-align: right;\">\n",
              "      <th></th>\n",
              "      <th>name</th>\n",
              "      <th>premiered</th>\n",
              "      <th>rating</th>\n",
              "      <th>primary_title</th>\n",
              "    </tr>\n",
              "  </thead>\n",
              "  <tbody>\n",
              "    <tr>\n",
              "      <th>0</th>\n",
              "      <td>Rodney Rothman</td>\n",
              "      <td>2004</td>\n",
              "      <td>7.0</td>\n",
              "      <td>$5.15/Hr.</td>\n",
              "    </tr>\n",
              "    <tr>\n",
              "      <th>1</th>\n",
              "      <td>Rodney Rothman</td>\n",
              "      <td>2005</td>\n",
              "      <td>7.6</td>\n",
              "      <td>The Apartment Episode</td>\n",
              "    </tr>\n",
              "    <tr>\n",
              "      <th>2</th>\n",
              "      <td>Rodney Rothman</td>\n",
              "      <td>2005</td>\n",
              "      <td>8.6</td>\n",
              "      <td>The Snow Episode</td>\n",
              "    </tr>\n",
              "    <tr>\n",
              "      <th>3</th>\n",
              "      <td>Rodney Rothman</td>\n",
              "      <td>1995</td>\n",
              "      <td>4.2</td>\n",
              "      <td>Episode dated 23 November 1995</td>\n",
              "    </tr>\n",
              "    <tr>\n",
              "      <th>4</th>\n",
              "      <td>Rodney Rothman</td>\n",
              "      <td>1996</td>\n",
              "      <td>7.0</td>\n",
              "      <td>Episode dated 19 February 1996</td>\n",
              "    </tr>\n",
              "  </tbody>\n",
              "</table>\n",
              "</div>"
            ],
            "text/plain": [
              "             name  premiered  rating                   primary_title\n",
              "0  Rodney Rothman       2004     7.0                       $5.15/Hr.\n",
              "1  Rodney Rothman       2005     7.6           The Apartment Episode\n",
              "2  Rodney Rothman       2005     8.6                The Snow Episode\n",
              "3  Rodney Rothman       1995     4.2  Episode dated 23 November 1995\n",
              "4  Rodney Rothman       1996     7.0  Episode dated 19 February 1996"
            ]
          },
          "metadata": {
            "tags": []
          },
          "execution_count": 145
        }
      ]
    },
    {
      "cell_type": "code",
      "metadata": {
        "colab": {
          "base_uri": "https://localhost:8080/",
          "height": 194
        },
        "id": "cn-XakQtVPtz",
        "outputId": "d3d13b05-35f6-431c-cf36-bab8a93d6dee"
      },
      "source": [
        "import pandas as pd\n",
        "import sqlite3\n",
        "\n",
        "query = \"\"\"\n",
        "SELECT name, premiered, rating, primary_title FROM titles\n",
        "JOIN ratings, crew, people\n",
        "ON titles.title_id = ratings.title_id AND titles.title_id = crew.title_id AND crew.person_id = people.person_id\n",
        "WHERE people.name IN ('Joe Ranft')\n",
        "\"\"\"\n",
        "\n",
        "\n",
        "con = sqlite3.connect('imdb.db')\n",
        "dfranft = pd.read_sql(query, con)\n",
        "dfranft = dfranft.loc[:,~dfranft.columns.duplicated()]\n",
        "dfranft.head(5)"
      ],
      "execution_count": null,
      "outputs": [
        {
          "output_type": "execute_result",
          "data": {
            "text/html": [
              "<div>\n",
              "<style scoped>\n",
              "    .dataframe tbody tr th:only-of-type {\n",
              "        vertical-align: middle;\n",
              "    }\n",
              "\n",
              "    .dataframe tbody tr th {\n",
              "        vertical-align: top;\n",
              "    }\n",
              "\n",
              "    .dataframe thead th {\n",
              "        text-align: right;\n",
              "    }\n",
              "</style>\n",
              "<table border=\"1\" class=\"dataframe\">\n",
              "  <thead>\n",
              "    <tr style=\"text-align: right;\">\n",
              "      <th></th>\n",
              "      <th>name</th>\n",
              "      <th>premiered</th>\n",
              "      <th>rating</th>\n",
              "      <th>primary_title</th>\n",
              "    </tr>\n",
              "  </thead>\n",
              "  <tbody>\n",
              "    <tr>\n",
              "      <th>0</th>\n",
              "      <td>Joe Ranft</td>\n",
              "      <td>1982</td>\n",
              "      <td>5.8</td>\n",
              "      <td>Fun with Mr. Future</td>\n",
              "    </tr>\n",
              "    <tr>\n",
              "      <th>1</th>\n",
              "      <td>Joe Ranft</td>\n",
              "      <td>1987</td>\n",
              "      <td>7.3</td>\n",
              "      <td>The Brave Little Toaster</td>\n",
              "    </tr>\n",
              "    <tr>\n",
              "      <th>2</th>\n",
              "      <td>Joe Ranft</td>\n",
              "      <td>1990</td>\n",
              "      <td>6.9</td>\n",
              "      <td>The Rescuers Down Under</td>\n",
              "    </tr>\n",
              "    <tr>\n",
              "      <th>3</th>\n",
              "      <td>Joe Ranft</td>\n",
              "      <td>1995</td>\n",
              "      <td>8.3</td>\n",
              "      <td>Toy Story</td>\n",
              "    </tr>\n",
              "    <tr>\n",
              "      <th>4</th>\n",
              "      <td>Joe Ranft</td>\n",
              "      <td>1998</td>\n",
              "      <td>7.2</td>\n",
              "      <td>A Bug's Life</td>\n",
              "    </tr>\n",
              "  </tbody>\n",
              "</table>\n",
              "</div>"
            ],
            "text/plain": [
              "        name  premiered  rating             primary_title\n",
              "0  Joe Ranft       1982     5.8       Fun with Mr. Future\n",
              "1  Joe Ranft       1987     7.3  The Brave Little Toaster\n",
              "2  Joe Ranft       1990     6.9   The Rescuers Down Under\n",
              "3  Joe Ranft       1995     8.3                 Toy Story\n",
              "4  Joe Ranft       1998     7.2              A Bug's Life"
            ]
          },
          "metadata": {
            "tags": []
          },
          "execution_count": 146
        }
      ]
    },
    {
      "cell_type": "markdown",
      "metadata": {
        "id": "xotBJ3BzaQnn"
      },
      "source": [
        "('Christopher Nolan',\n",
        " 'Quentin Tarantino',\n",
        " 'Peter Jackson',\n",
        " 'Lee Unkrich',\n",
        " 'Chad Stahelski',\n",
        " 'Rodney Rothman',\n",
        " 'Joe Ranft')"
      ]
    },
    {
      "cell_type": "code",
      "metadata": {
        "id": "4Kz0GZ8hMkPE"
      },
      "source": [
        "import matplotlib.pyplot as plt\n",
        "%matplotlib inline\n",
        "import seaborn as sns\n",
        "import random"
      ],
      "execution_count": null,
      "outputs": []
    },
    {
      "cell_type": "markdown",
      "metadata": {
        "id": "xwFSmtCkqSHd"
      },
      "source": [
        "Visualizing ratings of movies throughout time for each director:"
      ]
    },
    {
      "cell_type": "code",
      "metadata": {
        "colab": {
          "base_uri": "https://localhost:8080/",
          "height": 295
        },
        "id": "sSIfHxTmYHpc",
        "outputId": "ba560b2c-7a0a-448b-fcdb-bdd29582a2b5"
      },
      "source": [
        "\n",
        "X = list(dftarantino['premiered'])\n",
        "Y = list(dftarantino['rating'])\n",
        "\n",
        "DAYS = X\n",
        "plt.bar(X, Y, color='black')\n",
        "plt.title('Quentin Tarantino')\n",
        "plt.ylabel('Rating')\n",
        "plt.xlabel('Premiered')\n",
        "plt.show()"
      ],
      "execution_count": null,
      "outputs": [
        {
          "output_type": "display_data",
          "data": {
            "image/png": "[encoded data removed]",
            "text/plain": [
              "<Figure size 432x288 with 1 Axes>"
            ]
          },
          "metadata": {
            "tags": [],
            "needs_background": "light"
          }
        }
      ]
    },
    {
      "cell_type": "code",
      "metadata": {
        "colab": {
          "base_uri": "https://localhost:8080/",
          "height": 295
        },
        "id": "kl1UKiJ7d8OV",
        "outputId": "0cfb9b4e-0065-423e-a1c0-4484b00f6262"
      },
      "source": [
        "X2 = list(dfrothman['premiered'])\n",
        "Y2 = list(dfrothman['rating'])\n",
        "\n",
        "YEARS = X2\n",
        "plt.bar(X2, Y2, color='pink')\n",
        "plt.title('Rodney Rothman')\n",
        "plt.ylabel('Rating')\n",
        "plt.xlabel('Premiered')\n",
        "plt.show()"
      ],
      "execution_count": null,
      "outputs": [
        {
          "output_type": "display_data",
          "data": {
            "image/png": "[encoded data removed]",
            "text/plain": [
              "<Figure size 432x288 with 1 Axes>"
            ]
          },
          "metadata": {
            "tags": [],
            "needs_background": "light"
          }
        }
      ]
    },
    {
      "cell_type": "code",
      "metadata": {
        "colab": {
          "base_uri": "https://localhost:8080/",
          "height": 295
        },
        "id": "YjX_fgpMjkUh",
        "outputId": "76d0212c-6340-43d2-a152-567b899c4ed6"
      },
      "source": [
        "X3 = list(dfranft['premiered'])\n",
        "Y3 = list(dfranft['rating'])\n",
        "\n",
        "YEARS = X3\n",
        "plt.bar(X3, Y3, color='blue')\n",
        "plt.title('Joe Ranft')\n",
        "plt.ylabel('Rating')\n",
        "plt.xlabel('Premiered')\n",
        "plt.show()"
      ],
      "execution_count": null,
      "outputs": [
        {
          "output_type": "display_data",
          "data": {
            "image/png": "[encoded data removed]",
            "text/plain": [
              "<Figure size 432x288 with 1 Axes>"
            ]
          },
          "metadata": {
            "tags": [],
            "needs_background": "light"
          }
        }
      ]
    },
    {
      "cell_type": "code",
      "metadata": {
        "colab": {
          "base_uri": "https://localhost:8080/",
          "height": 295
        },
        "id": "pTJVdedcjke2",
        "outputId": "5206d724-384d-46ba-80dc-89d40a945964"
      },
      "source": [
        "X4 = list(dfstahelski['premiered'])\n",
        "Y4 = list(dfstahelski['rating'])\n",
        "\n",
        "YEARS = X4\n",
        "plt.bar(X4, Y4, color='yellow')\n",
        "plt.title('Chad Stahelski')\n",
        "plt.ylabel('Rating')\n",
        "plt.xlabel('Premiered')\n",
        "plt.show()"
      ],
      "execution_count": null,
      "outputs": [
        {
          "output_type": "display_data",
          "data": {
            "image/png": "[encoded data removed]",
            "text/plain": [
              "<Figure size 432x288 with 1 Axes>"
            ]
          },
          "metadata": {
            "tags": [],
            "needs_background": "light"
          }
        }
      ]
    },
    {
      "cell_type": "code",
      "metadata": {
        "colab": {
          "base_uri": "https://localhost:8080/",
          "height": 295
        },
        "id": "AFWE7scrjknW",
        "outputId": "a466eead-43ac-49f1-d751-64f0c7d1ff80"
      },
      "source": [
        "X5 = list(dfunkrich['premiered'])\n",
        "Y5 = list(dfunkrich['rating'])\n",
        "\n",
        "YEARS = X5\n",
        "plt.bar(X5, Y5, color='green')\n",
        "plt.title('Lee Unkrich')\n",
        "plt.ylabel('Rating')\n",
        "plt.xlabel('Premiered')\n",
        "plt.show()"
      ],
      "execution_count": null,
      "outputs": [
        {
          "output_type": "display_data",
          "data": {
            "image/png": "[encoded data removed]",
            "text/plain": [
              "<Figure size 432x288 with 1 Axes>"
            ]
          },
          "metadata": {
            "tags": [],
            "needs_background": "light"
          }
        }
      ]
    },
    {
      "cell_type": "code",
      "metadata": {
        "colab": {
          "base_uri": "https://localhost:8080/",
          "height": 295
        },
        "id": "L6OzyfZbjpCB",
        "outputId": "ae504945-026f-49b9-d7a4-9704e2959a62"
      },
      "source": [
        "X6 = list(dfjackson['premiered'])\n",
        "Y6 = list(dfjackson['rating'])\n",
        "\n",
        "YEARS = X6\n",
        "plt.bar(X6, Y6, color='gray')\n",
        "\n",
        "plt.title('Peter Jackson')\n",
        "plt.ylabel('Rating')\n",
        "plt.xlabel('Premiered')\n",
        "plt.show()"
      ],
      "execution_count": null,
      "outputs": [
        {
          "output_type": "display_data",
          "data": {
            "image/png": "[encoded data removed]",
            "text/plain": [
              "<Figure size 432x288 with 1 Axes>"
            ]
          },
          "metadata": {
            "tags": [],
            "needs_background": "light"
          }
        }
      ]
    },
    {
      "cell_type": "code",
      "metadata": {
        "colab": {
          "base_uri": "https://localhost:8080/",
          "height": 295
        },
        "id": "36duiHoqjsDA",
        "outputId": "5da3c225-065d-48e1-decf-5d09e6b0165d"
      },
      "source": [
        "X7 = list(dfnolan['premiered'])\n",
        "Y7 = list(dfnolan['rating'])\n",
        "\n",
        "YEARS = X7\n",
        "plt.bar(X7, Y7, color='red')\n",
        "plt.title('Christopher Nolan')\n",
        "plt.ylabel('Rating')\n",
        "plt.xlabel('Premiered')\n",
        "plt.show()"
      ],
      "execution_count": null,
      "outputs": [
        {
          "output_type": "display_data",
          "data": {
            "image/png": "[encoded data removed]",
            "text/plain": [
              "<Figure size 432x288 with 1 Axes>"
            ]
          },
          "metadata": {
            "tags": [],
            "needs_background": "light"
          }
        }
      ]
    }
  ]
}